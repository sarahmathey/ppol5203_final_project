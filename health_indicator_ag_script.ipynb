{
 "cells": [
  {
   "cell_type": "markdown",
   "id": "126af005-a0b3-4914-9631-db10f9b31b75",
   "metadata": {},
   "source": [
    "Script below takes health indicators from https://data.hrsa.gov/maps/mchb and specifies the important columns, aggregating all sheets into one excel file.  Download each health indicator per state and get all the county data for them. Note: only works for specific columns in \"columns_to_keep\" variable- can subtract from this, but I don't recommend adding without expecting to make some adjustments for different sized data."
   ]
  },
  {
   "cell_type": "code",
   "execution_count": 56,
   "id": "d476af83-beab-4cc9-ba0a-67711191b04c",
   "metadata": {},
   "outputs": [
    {
     "name": "stdout",
     "output_type": "stream",
     "text": [
      "Merged dataset saved as 'merged_health_indicators.xlsx'.\n"
     ]
    }
   ],
   "source": [
    "import pandas as pd\n",
    "import os\n",
    "\n",
    "# Path to your folder (could not get relative path to work for whatever reason *eyeroll*\n",
    "folder_path = \"/Users/eclark/Python/FinalProject/Data/2017_2019\" \n",
    "\n",
    "# Initialize a master dataframe\n",
    "master_df = None\n",
    "\n",
    "# Specify columns to keep\n",
    "columns_to_keep = [\"County FIPS Code\", \"HRSA Region\", \"State\", \"County\", \n",
    "                   \"(#) Women 15-44 Years of Age by Race - Asian\", \n",
    "                   \"(%) Women 15-44 Years of Age by Race - Asian\", \n",
    "                   \"NCHS Urban-Rural Classification\", \n",
    "                   \"Households with Low Income (< 200% of the Poverty Level) (%)\", \n",
    "                   \"(#) Women 15-44 Years of Age by Race - More than one race\", \n",
    "                   \"(%) Women 15-44 Years of Age by Race - More than one race\", \n",
    "                   \"OB-GYN Provider Rate (per 100,000)\", \n",
    "                   \"(#) Women 15-44 Years of Age by Race - White\", \n",
    "                   \"(%) Women 15-44 Years of Age by Race - White\",\n",
    "                   \"Uninsured Women 18-49 Years of Age (%)\", \n",
    "                   \"Prenatal Care in the 1st Trimester (%) 2017-2019\", \n",
    "                   \"(#) Women 15-44 Years of Age by Race - Black or African American\", \n",
    "                   \"(%) Women 15-44 Years of Age by Race - Black or African American\",\n",
    "                   \"(#) Women 15-44 Years of Age by Race - American Indian or Alaska Native\",\n",
    "                   \"(%) Women 15-44 Years of Age by Race - American Indian or Alaska Native\",\n",
    "                   \"Obesity - Pre-pregnancy (%) 2017-2019\",\n",
    "                   \"(#) Women 15-44 Years of Age by Ethnicity - Hispanic or Latina\",\n",
    "                   \"(%) Women 15-44 Years of Age by Ethnicity - Hispanic or Latina\",\n",
    "                   \"(#) Women 15-44 Years of Age by Race - Native Hawaiian or Other Pacific Islander\",\n",
    "                   \"(%) Women 15-44 Years of Age by Race - Native Hawaiian or Other Pacific Islander\",\n",
    "                   \"Diabetes - Pre-pregnancy (%) 2017-2019\",\n",
    "                   \"Hypertension - Pre-pregnancy (%) 2017-2019\",\n",
    "                   \"(#) Women 15-44 Years of Age by Ethnicity - Not Hispanic or Latina\",\n",
    "                   \"(%) Women 15-44 Years of Age by Ethnicity - Not Hispanic or Latina\",\n",
    "                   \"Cesarean Delivery - All (%) 2017-2019\",\n",
    "                   \"Birth Rate (per 1,000)\",\n",
    "                   \"Year Range\"]\n",
    "\n",
    "# Loop through files in the folder\n",
    "for file in os.listdir(folder_path):\n",
    "    if file.endswith('.xlsx') and not file.startswith('~$'):  # Exclude temp files\n",
    "        file_path = os.path.join(folder_path, file)\n",
    "        \n",
    "        try:\n",
    "            # Load the data without skipping rows\n",
    "            df = pd.read_excel(file_path, engine='openpyxl')\n",
    "            \n",
    "            # Ensure 'State' and 'County' columns exist before merging\n",
    "            if 'State' not in df.columns or 'County' not in df.columns:\n",
    "                print(f\"Skipping file {file}: Missing 'State' or 'County' column.\")\n",
    "                continue\n",
    "\n",
    "            # Keep only the desired columns for this file\n",
    "            df = df.filter(columns_to_keep, axis=1)\n",
    "            \n",
    "            # Merge datasets based on 'State' and 'County' with unique suffixes for overlaps\n",
    "            if master_df is None:\n",
    "                master_df = df  # Initialize the master dataframe\n",
    "            else:\n",
    "                master_df = pd.merge(\n",
    "                    master_df, df, \n",
    "                    on=['State', 'County'], \n",
    "                    how='outer', \n",
    "                    suffixes=('', f'_{file[:5]}')  # Add file-based suffix for duplicate columns\n",
    "                )\n",
    "        \n",
    "        except Exception as e:\n",
    "            print(f\"Error processing file {file}: {e}\")\n",
    "\n",
    "# Remove duplicate columns after merging\n",
    "if master_df is not None:\n",
    "    # Keep only the first occurrence of duplicate columns based on the original column names\n",
    "    master_df = master_df.loc[:, ~master_df.columns.duplicated()]\n",
    "\n",
    "    # Keep only the desired columns in the final dataset\n",
    "    master_df = master_df.filter(columns_to_keep, axis=1)\n",
    "    \n",
    "    # Save the cleaned, merged dataframe\n",
    "    master_df.to_excel('merged_health_indicators.xlsx', index=False)\n",
    "    print(\"Merged dataset saved as 'merged_health_indicators.xlsx'.\")\n",
    "else:\n",
    "    print(\"No valid Excel files were processed.\")"
   ]
  }
 ],
 "metadata": {
  "kernelspec": {
   "display_name": "Python 3 (ipykernel)",
   "language": "python",
   "name": "python3"
  },
  "language_info": {
   "codemirror_mode": {
    "name": "ipython",
    "version": 3
   },
   "file_extension": ".py",
   "mimetype": "text/x-python",
   "name": "python",
   "nbconvert_exporter": "python",
   "pygments_lexer": "ipython3",
   "version": "3.12.4"
  }
 },
 "nbformat": 4,
 "nbformat_minor": 5
}
