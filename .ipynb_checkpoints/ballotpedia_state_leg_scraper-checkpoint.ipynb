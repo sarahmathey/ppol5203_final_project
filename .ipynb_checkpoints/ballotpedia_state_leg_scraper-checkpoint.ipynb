{
 "cells": [
  {
   "cell_type": "markdown",
   "id": "14b222f0-23f0-494c-9054-f02f8e450215",
   "metadata": {},
   "source": [
    "## Scrape State Leg election History "
   ]
  },
  {
   "cell_type": "code",
   "execution_count": 21,
   "id": "1c61fc64-0929-46df-a838-57a3b56bb98a",
   "metadata": {},
   "outputs": [],
   "source": [
    "import pandas as pd\n",
    "import requests \n",
    "import re\n",
    "import numpy as np\n",
    "from bs4 import BeautifulSoup\n",
    "import time # To put the system to sleep\n",
    "import random # for random numbers\n",
    "import json\n",
    "import pandasql as psql\n",
    "import itertools"
   ]
  },
  {
   "cell_type": "code",
   "execution_count": 2,
   "id": "cab135fc-8fe7-4d2e-8c6f-a0709409ddfd",
   "metadata": {},
   "outputs": [],
   "source": [
    "states = [\n",
    "'Alabama','Alaska','Arizona','Arkansas','California','Colorado','Connecticut','Delaware',\n",
    "'Florida','Georgia','Hawaii','Idaho','Illinois','Indiana','Iowa','Kansas','Kentucky',\n",
    "'Louisiana','Maine','Maryland','Massachusetts','Michigan','Minnesota','Mississippi',\n",
    "'Missouri','Montana','Nebraska','Nevada','New_Hampshire','New_Jersey','New_Mexico',\n",
    "'New_York','North_Carolina','North_Dakota','Ohio','Oklahoma','Oregon','Pennsylvania',\n",
    "'Rhode_Island','South_Carolina','South_Dakota','Tennessee','Texas','Utah','Vermont',\n",
    "'Virginia','Washington','West_Virginia','Wisconsin','Wyoming']\n",
    "\n",
    "#urls = ['https://ballotpedia.org/{}_State_Legislature'.format(state) for state in states]"
   ]
  },
  {
   "cell_type": "code",
   "execution_count": 3,
   "id": "83321463-044c-45a8-99d1-46c0bbfe54b9",
   "metadata": {},
   "outputs": [],
   "source": [
    "def ballotpedia_state_senate_control_scraper(state):\n",
    "    '''\n",
    "    for a given state, scrapes the senate election results tables \n",
    "    '''\n",
    "    url = 'https://ballotpedia.org/{}_State_Legislature'.format(state)\n",
    "    page = requests.get(url)\n",
    "    \n",
    "    if page.status_code == 200:\n",
    "        soup = BeautifulSoup(page.content, 'html.parser')\n",
    "        senate_table = soup.find('table', {'class': 'wikitable'}).find_next('table')\n",
    "        senate_results = []\n",
    "        for row in senate_table.find_all('tr')[1:]:  # skip the header row\n",
    "            cols = row.find_all('td')\n",
    "            if cols:\n",
    "                senate_results.append([col.text.strip() for col in cols])\n",
    "        \n",
    "        senate_rows = senate_table.find_all('tr')\n",
    "\n",
    "        # Extract headers for Senate\n",
    "        senate_headers = [re.sub(r'[^\\w\\s\\d]', '',header.text.strip())[:2] for header in senate_rows[0].find_all('th')]\n",
    "\n",
    "        list_1 =[]\n",
    "        \n",
    "        for col in senate_headers[1:]:\n",
    "            if col[0]=='9':\n",
    "                list_1.append('19'+col)\n",
    "            else:\n",
    "                list_1.append('20'+col)\n",
    "\n",
    "        first_col = np.where(senate_headers[0]=='Pa','Year','Year')\n",
    "        first_col_string = re.sub(r'[^\\w\\s\\d]', '',np.array2string(first_col, separator=', ').strip('[]'))\n",
    "        \n",
    "        senate_headers = [first_col_string] + list_1\n",
    "\n",
    "        senate_df = pd.DataFrame(senate_results, columns = senate_headers)  # Adjust column names\n",
    "\n",
    "\n",
    "        return(senate_df) \n",
    "    \n",
    "    else:\n",
    "        return({state:page.status_code})\n",
    "\n",
    "def ballotpedia_state_house_control_scraper(state):\n",
    "    '''\n",
    "    for a given state, scrapes the house election results tables \n",
    "    '''\n",
    "    url = 'https://ballotpedia.org/{}_State_Legislature'.format(state)\n",
    "    page = requests.get(url)\n",
    "    \n",
    "    if page.status_code == 200:\n",
    "        soup = BeautifulSoup(page.content, 'html.parser')\n",
    "        senate_table = soup.find('table', {'class': 'wikitable'}).find_next('table')\n",
    "\n",
    "# Step 4: Extract House of Representatives election results\n",
    "        house_table = senate_table.find_next('table').find_next('table') \n",
    "        house_results = []\n",
    "        for row in house_table.find_all('tr')[1:]:  # skip the header row\n",
    "            cols = row.find_all('td')\n",
    "            if cols:\n",
    "                house_results.append([col.text.strip() for col in cols])\n",
    "        \n",
    "        house_rows = house_table.find_all('tr')\n",
    "\n",
    "        # Extract headers for House\n",
    "        house_headers = [re.sub(r'[^\\w\\s\\d]', '',header.text.strip())[:2] for header in house_rows[0].find_all('th')]\n",
    "        \n",
    "        list_1 =[]\n",
    "        \n",
    "        for col in house_headers[1:]:\n",
    "            if col[0]=='9':\n",
    "                list_1.append('19'+col)\n",
    "            else:\n",
    "                list_1.append('20'+col)\n",
    "        \n",
    "        first_col = np.where(house_headers[0]=='Pa','Year','Year')\n",
    "        first_col_string = re.sub(r'[^\\w\\s\\d]', '',np.array2string(first_col, separator=', ').strip('[]'))\n",
    "        \n",
    "        house_headers = [first_col_string] + list_1\n",
    "        \n",
    "        house_df = pd.DataFrame(house_results, columns = house_headers)  # Adjust column names\n",
    "\n",
    "        return(house_df) \n",
    "\n",
    "    else:\n",
    "        return({state:page.status_code})\n"
   ]
  },
  {
   "cell_type": "code",
   "execution_count": 63,
   "id": "d2ef24b2-0c2a-43af-b57a-ba8fbfc76f4a",
   "metadata": {},
   "outputs": [],
   "source": [
    "senate_results={}\n",
    "for state in states:\n",
    "    df = ballotpedia_state_senate_control_scraper(state)\n",
    "    \n",
    "    if df.shape[0]<=3:\n",
    "        \n",
    "       df = df.set_index('Year').T\n",
    "       df['state']=state\n",
    "       df['Democrats'] = pd.to_numeric(df['Democrats'].str.replace(r'\\D+', '', regex=True))\n",
    "       df['Republicans'] = pd.to_numeric(df['Republicans'].str.replace(r'\\D+', '', regex=True))\n",
    "       df['sen_control'] = np.where(df['Democrats']>df['Republicans'],'D','R')\n",
    "       df.reset_index(names='elec_year',inplace=True)\n",
    "       df['elec_year']=pd.to_numeric(df['elec_year'])\n",
    "       df['leg_start'] = df['elec_year']+ 1\n",
    "       df['leg_end'] = df['elec_year'].shift(-1, fill_value=0)\n",
    "    # select only two party results\n",
    "       df=df[['state','Democrats','Republicans','sen_control','elec_year','leg_start','leg_end']]\n",
    "\n",
    "    else: pass \n",
    "\n",
    "    senate_results[state]=df\n",
    "    # Put the system to sleep for a random draw of time (be kind)\n",
    "    time.sleep(random.uniform(.5,1))\n",
    "    \n",
    "    "
   ]
  },
  {
   "cell_type": "code",
   "execution_count": 66,
   "id": "a40106e4-8239-4714-83ae-71b30d6d8218",
   "metadata": {},
   "outputs": [],
   "source": [
    "del senate_results['Nebraska']"
   ]
  },
  {
   "cell_type": "code",
   "execution_count": 57,
   "id": "651c8d68-489d-45e5-b7ca-36410877031c",
   "metadata": {},
   "outputs": [
    {
     "name": "stdout",
     "output_type": "stream",
     "text": [
      "An error occurred with state: Nebraska\n"
     ]
    }
   ],
   "source": [
    "house_results={}\n",
    "house_states = [state for state in states if state!='Nebraska']\n",
    "for state in house_states:\n",
    "    try:\n",
    "        df = ballotpedia_state_house_control_scraper(state)\n",
    "\n",
    "        if df.shape[0]<=3:\n",
    "           df = df.set_index('Year').T\n",
    "           df['state']=state\n",
    "           df['Democrats'] = pd.to_numeric(df['Democrats'].str.replace(r'\\D+', '', regex=True))\n",
    "           df['Republicans'] = pd.to_numeric(df['Republicans'].str.replace(r'\\D+', '', regex=True))\n",
    "           df['house_control'] = np.where(df['Democrats']>df['Republicans'],'D','R')\n",
    "           df.reset_index(names='elec_year',inplace=True)\n",
    "           df['elec_year']=pd.to_numeric(df['elec_year'])\n",
    "           df['leg_start'] = df['elec_year']+ 1\n",
    "           df['leg_end'] = df['elec_year'].shift(-1, fill_value=0)\n",
    "           df=df[['state','elec_year','Democrats','Republicans','house_control','leg_start','leg_end']]\n",
    "\n",
    "        else: pass \n",
    "    \n",
    "        house_results[state]=df\n",
    "    \n",
    "    except:\n",
    "        print(f'An error occurred with state: {state}')\n",
    "        \n",
    "    # Put the system to sleep for a random draw of time (be kind)\n",
    "    time.sleep(random.uniform(.5,1))\n",
    "    \n",
    " "
   ]
  },
  {
   "cell_type": "code",
   "execution_count": 67,
   "id": "43f48fec-4cd8-4c80-bb90-f738c995449a",
   "metadata": {},
   "outputs": [],
   "source": [
    "# concatenate dictionary values \n",
    "all_house_results = pd.concat(house_results.values(), ignore_index=True)\n",
    "all_senate_results = pd.concat(senate_results.values(), ignore_index=True)\n",
    "\n",
    "# Export the concatenated DataFrame to a CSV file\n",
    "all_house_results.to_csv('house_leg_election_results.csv', index=False)\n",
    "all_senate_results.to_csv('senate_leg_election_results.csv', index=False)\n"
   ]
  },
  {
   "cell_type": "code",
   "execution_count": null,
   "id": "490419a6-6b54-4f47-bcdd-cf44a0149fb8",
   "metadata": {},
   "outputs": [],
   "source": [
    "all_senate"
   ]
  },
  {
   "cell_type": "code",
   "execution_count": 68,
   "id": "d390ec5c-de11-4d37-9648-91c35fbcf732",
   "metadata": {},
   "outputs": [
    {
     "data": {
      "text/html": [
       "<div>\n",
       "<style scoped>\n",
       "    .dataframe tbody tr th:only-of-type {\n",
       "        vertical-align: middle;\n",
       "    }\n",
       "\n",
       "    .dataframe tbody tr th {\n",
       "        vertical-align: top;\n",
       "    }\n",
       "\n",
       "    .dataframe thead th {\n",
       "        text-align: right;\n",
       "    }\n",
       "</style>\n",
       "<table border=\"1\" class=\"dataframe\">\n",
       "  <thead>\n",
       "    <tr style=\"text-align: right;\">\n",
       "      <th>Year</th>\n",
       "      <th>state</th>\n",
       "      <th>Democrats</th>\n",
       "      <th>Republicans</th>\n",
       "      <th>sen_control</th>\n",
       "      <th>elec_year</th>\n",
       "      <th>leg_start</th>\n",
       "      <th>leg_end</th>\n",
       "    </tr>\n",
       "  </thead>\n",
       "  <tbody>\n",
       "    <tr>\n",
       "      <th>0</th>\n",
       "      <td>Alabama</td>\n",
       "      <td>28</td>\n",
       "      <td>7</td>\n",
       "      <td>D</td>\n",
       "      <td>1990</td>\n",
       "      <td>1991</td>\n",
       "      <td>1994</td>\n",
       "    </tr>\n",
       "    <tr>\n",
       "      <th>1</th>\n",
       "      <td>Alabama</td>\n",
       "      <td>23</td>\n",
       "      <td>12</td>\n",
       "      <td>D</td>\n",
       "      <td>1994</td>\n",
       "      <td>1995</td>\n",
       "      <td>1998</td>\n",
       "    </tr>\n",
       "    <tr>\n",
       "      <th>2</th>\n",
       "      <td>Alabama</td>\n",
       "      <td>23</td>\n",
       "      <td>12</td>\n",
       "      <td>D</td>\n",
       "      <td>1998</td>\n",
       "      <td>1999</td>\n",
       "      <td>2002</td>\n",
       "    </tr>\n",
       "    <tr>\n",
       "      <th>3</th>\n",
       "      <td>Alabama</td>\n",
       "      <td>25</td>\n",
       "      <td>10</td>\n",
       "      <td>D</td>\n",
       "      <td>2002</td>\n",
       "      <td>2003</td>\n",
       "      <td>2006</td>\n",
       "    </tr>\n",
       "    <tr>\n",
       "      <th>4</th>\n",
       "      <td>Alabama</td>\n",
       "      <td>23</td>\n",
       "      <td>12</td>\n",
       "      <td>D</td>\n",
       "      <td>2006</td>\n",
       "      <td>2007</td>\n",
       "      <td>2010</td>\n",
       "    </tr>\n",
       "  </tbody>\n",
       "</table>\n",
       "</div>"
      ],
      "text/plain": [
       "Year    state  Democrats  Republicans sen_control  elec_year  leg_start  \\\n",
       "0     Alabama         28            7           D       1990       1991   \n",
       "1     Alabama         23           12           D       1994       1995   \n",
       "2     Alabama         23           12           D       1998       1999   \n",
       "3     Alabama         25           10           D       2002       2003   \n",
       "4     Alabama         23           12           D       2006       2007   \n",
       "\n",
       "Year  leg_end  \n",
       "0        1994  \n",
       "1        1998  \n",
       "2        2002  \n",
       "3        2006  \n",
       "4        2010  "
      ]
     },
     "execution_count": 68,
     "metadata": {},
     "output_type": "execute_result"
    }
   ],
   "source": [
    "all_senate_results.head()"
   ]
  },
  {
   "cell_type": "code",
   "execution_count": 38,
   "id": "3fb7e465-f2ef-4135-b444-96f2be29b85f",
   "metadata": {},
   "outputs": [],
   "source": [
    "Years = list(range(1999,2020))"
   ]
  },
  {
   "cell_type": "code",
   "execution_count": 39,
   "id": "67f45e76-c432-461f-86db-f80e42e61afd",
   "metadata": {},
   "outputs": [],
   "source": [
    "# Create the cross product of the two lists\n",
    "combinations = list(itertools.product(Years, states))\n",
    "\n",
    "# Create a DataFrame from the combinations\n",
    "df_base = pd.DataFrame(combinations, columns=['Year', 'state'])\n"
   ]
  },
  {
   "cell_type": "code",
   "execution_count": 77,
   "id": "1ae9e1d7-b722-4ce7-821d-6cb52c562272",
   "metadata": {},
   "outputs": [],
   "source": [
    "gov_data = pd.read_csv('project_political_data - gov_party.csv')"
   ]
  },
  {
   "cell_type": "code",
   "execution_count": 78,
   "id": "490fdc97-b6f8-4dd4-a861-f8a1eca1f575",
   "metadata": {},
   "outputs": [],
   "source": [
    "query = \"\"\"\n",
    "select \n",
    "\n",
    "df_base.Year\n",
    ", df_base.state\n",
    "\n",
    ", all_senate_results.elec_year as sen_elec_year\n",
    ", all_senate_results.leg_start as sen_leg_start\n",
    ", all_senate_results.leg_end as sen_leg_end\n",
    ", all_senate_results.sen_control\n",
    "\n",
    ", all_house_results.elec_year as house_elec_year\n",
    ", all_house_results.leg_start as house_leg_start\n",
    ", all_house_results.leg_end as house_leg_end\n",
    ", all_house_results.house_control \n",
    "\n",
    ", gov_data.governor_party\n",
    "\n",
    "from df_base\n",
    "left join all_senate_results \n",
    "    on df_base.state = all_senate_results.state \n",
    "    and df_base.Year between all_senate_results.leg_start and all_senate_results.leg_end\n",
    "left join all_house_results\n",
    "    on df_base.state = all_house_results.state \n",
    "    and df_base.Year between all_house_results.leg_start and all_house_results.leg_end\n",
    "left join gov_data \n",
    "    on df_base.state = gov_data.state \n",
    "    and df_base.Year = gov_data.year\n",
    "\n",
    "group by 1,2,3,4,5,6,7,8,9,10,11\n",
    "\n",
    "\"\"\"\n",
    "\n",
    "results = psql.sqldf(query,locals())"
   ]
  },
  {
   "cell_type": "code",
   "execution_count": 111,
   "id": "02d5f581-564c-43ec-adf1-22d9c104056d",
   "metadata": {},
   "outputs": [],
   "source": [
    "political_control_data = results[results['Year']==2019].copy()"
   ]
  },
  {
   "cell_type": "code",
   "execution_count": 122,
   "id": "73b374be-1deb-4427-af3b-c174f9609145",
   "metadata": {},
   "outputs": [],
   "source": [
    "political_control_data['gop_trifecta'] = np.where(political_control_data['sen_control']+political_control_data['house_control']+political_control_data['governor_party']=='RRR' ,1,0)"
   ]
  },
  {
   "cell_type": "code",
   "execution_count": 123,
   "id": "171e43a0-7cb5-423a-acaf-f4a8fcb8959b",
   "metadata": {},
   "outputs": [],
   "source": [
    "political_control_data.reset_index(inplace=True)"
   ]
  },
  {
   "cell_type": "code",
   "execution_count": 138,
   "id": "28af62be-2a6d-412e-9010-00c26ce13b0f",
   "metadata": {},
   "outputs": [],
   "source": [
    "# update values for Nebraska since unicameral structure messed with flow \n",
    "political_control_data.loc[26,'sen_control']='R'\n",
    "political_control_data.loc[26,'gop_trifecta']=1"
   ]
  },
  {
   "cell_type": "code",
   "execution_count": 139,
   "id": "66e567cc-4c77-4b15-915f-d5b26686b9a0",
   "metadata": {},
   "outputs": [
    {
     "data": {
      "text/plain": [
       "index                  1026\n",
       "Year                   2019\n",
       "state              Nebraska\n",
       "sen_elec_year           NaN\n",
       "sen_leg_start           NaN\n",
       "sen_leg_end             NaN\n",
       "sen_control               R\n",
       "house_elec_year         NaN\n",
       "house_leg_start         NaN\n",
       "house_leg_end           NaN\n",
       "house_control          None\n",
       "governor_party            R\n",
       "gop_trifecta              1\n",
       "Name: 26, dtype: object"
      ]
     },
     "execution_count": 139,
     "metadata": {},
     "output_type": "execute_result"
    }
   ],
   "source": [
    "political_control_data.loc[26]"
   ]
  },
  {
   "cell_type": "code",
   "execution_count": null,
   "id": "cc391434-80d0-471c-8cac-a66304be3d47",
   "metadata": {},
   "outputs": [],
   "source": []
  }
 ],
 "metadata": {
  "kernelspec": {
   "display_name": "Python 3 (ipykernel)",
   "language": "python",
   "name": "python3"
  },
  "language_info": {
   "codemirror_mode": {
    "name": "ipython",
    "version": 3
   },
   "file_extension": ".py",
   "mimetype": "text/x-python",
   "name": "python",
   "nbconvert_exporter": "python",
   "pygments_lexer": "ipython3",
   "version": "3.12.4"
  }
 },
 "nbformat": 4,
 "nbformat_minor": 5
}
